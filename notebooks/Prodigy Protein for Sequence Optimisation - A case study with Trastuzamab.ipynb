{
 "cells": [
  {
   "cell_type": "markdown",
   "id": "816159dd-ed93-4dc4-a80f-6c05ea3e1673",
   "metadata": {},
   "source": [
    "## Generating Trastuzamab variants with Prodigy Protein\n",
    "\n",
    "Prodigy Protein is a flexible and rapid tool for protein variant generation. Here we present a simple case study for a common antibody optimisation challenge in antibody discovery - sequence optimisation.\n",
    "\n",
    "This example notebook provides a template to generate Trastuzamab variants and provides validation of the approach, demonstrating the proportion of generated variants that are binders when using Prodigy Protein. Please note that Prodigy Protein is a methodology to easily leverage Protein Language Models to suggest variants, so that its performance will always be tied to the Protein Language Model used. The human epidermal growth factor receptor 2 (HER2) antibody Trastuzamab has mutational data available, associating heavy chain CDR3 (HCDR3) sequences and whether they bind or not. Previously *Chinery et al. 2024* trained an oracle permitting the accurate prediction of HCDR3 Trastusamab variants that bind. \n",
    "\n",
    "It is crucial to have a performant oracle as we need to evaluate *in silico* new variants which do not have experimental data in the original deep mutation scan dataset. Here, we leverage the Trastuzamab binder oracle to measure the proportion of HCDR3 variants generated using ProdigyProtein driven by ESM2, IgBert or by a random approach (which serves as a negative control).\n",
    "\n",
    "The generative workflow consists of several steps:\n",
    "\n",
    "1. Loading the sampler, model and tokeniser.\n",
    "2. Loading the Antibody sequence and defining the region to be edited\n",
    "3. Creating the sampling configuration and inspecting the model tokeniser\n",
    "4. Using the sampler to generate antibody variants\n",
    "\n",
    "For any model it is important to inspect the dedicated tokeniser since some will introduce additional tokens into the sequence. This is true for ESM tokeniser."
   ]
  },
  {
   "cell_type": "markdown",
   "id": "c30cca17-67ab-41fa-8d44-9101d4b6ce2d",
   "metadata": {},
   "source": [
    "\n",
    "| Section       | Description                                      |\n",
    "|---------------|--------------------------------------------------|\n",
    "| [Generating Trastuzamab variants with Prodigy Protein](#Generating-Trastuzamab-variants-with-Prodigy-Protein)  | Overview of variant generation methodology          |\n",
    "| [Loading ESM2 and IgBert models, tokenisers and Trastuzamab sequence](#Loading-ESM2-and-IgBert-models,-tokeniser-and-Trastuzamab-sequence)  | Generates the tools needed for variant generation      |       |\n",
    "| [Generating Trastuzamab variants](#Generating-Trastuzamab-variants)      | Prodigy Protein directed evolution of Trastuzmab          |\n",
    "| [Evaluating binder yield](#Evaluating-binder-yield)  | Evaluate binder yield between ESM2 (PLM) and Random     |\n",
    "| [Conclusion](#Conclusion)    | Summarize ESM2 model performance with Prodigy Protein       |\n",
    "| [References](#References)    | Contains reference for Trastuzamab binding oracle used for evaluation |"
   ]
  },
  {
   "cell_type": "markdown",
   "id": "52964ce9-df76-4307-b14d-a241aad76c53",
   "metadata": {},
   "source": [
    "Install the Prodigy Protein package using the cell below. It has one dependency, Tensorflow."
   ]
  },
  {
   "cell_type": "code",
   "execution_count": 1,
   "id": "d28830e9-759a-4adb-892d-b54eb3ee8aac",
   "metadata": {},
   "outputs": [],
   "source": [
    "! pip install -q git+https://github.com/Sanofi-Public/prodigyprotein.git\n"
   ]
  },
  {
   "cell_type": "markdown",
   "id": "51f95d53-0792-4fe0-bc3a-d993e2e9d9c0",
   "metadata": {},
   "source": [
    "For this particular analysis we will need to calculate the number of substitution mutations introduced so please install the dependencies below."
   ]
  },
  {
   "cell_type": "code",
   "execution_count": 2,
   "id": "2a9ff433-9085-48d8-9196-d03f1c0435b4",
   "metadata": {},
   "outputs": [],
   "source": [
    "# install other dependencies for analysis\n",
    "!pip install -q textdistance transformers"
   ]
  },
  {
   "cell_type": "markdown",
   "id": "42a48352-51db-4973-aed3-f641bbc9fe18",
   "metadata": {},
   "source": [
    "## Loading ESM2 and IgBert models, tokeniser and Trastuzamab sequence"
   ]
  },
  {
   "cell_type": "code",
   "execution_count": 14,
   "id": "e73600b7-52a3-4584-80ca-6161b92cc42e",
   "metadata": {},
   "outputs": [],
   "source": [
    "from prodigyprotein import WeightedDirectedEvolutionSampler # To use samplers\n",
    "from transformers import TFEsmForMaskedLM, EsmTokenizer, TFAutoModelForMaskedLM, AutoTokenizer # To load Protein Language Models\n",
    "import tensorflow as tf # Manipulation of tensors \n",
    "from textdistance import levenshtein # Enumerate number of substitution mutations introduced\n",
    "import joblib # Save mutants generated by Prodigy Protein \n",
    "import zipfile # Access zip file downloaded from zenodo repository\n",
    "import seaborn as sns # Visualise results \n",
    "import matplotlib.pyplot as plt # Visualise results\n",
    "import pandas as pd # Format variant metadata as a table\n",
    "import random # Generate random substitution mutations"
   ]
  },
  {
   "cell_type": "markdown",
   "id": "e12daf88-ef6b-4aa4-9b7f-da696a7ee295",
   "metadata": {},
   "source": [
    "To validate the ProdigyProtein workflow for generating variants we will use it powered by three different methods. \n",
    "\n",
    "1. ESM2 650M\n",
    "2. IgBert (unpaired)\n",
    "3. Random\n",
    "\n",
    "The performance of the workflow for generating antibody variants depends on the model used to derive probabilities. ProdigyProtein provides a systematic and consistent framework to ease use of models to generate variants."
   ]
  },
  {
   "cell_type": "markdown",
   "id": "bfd49f71-e146-49a3-80ff-ee8065768517",
   "metadata": {},
   "source": [
    "### Reproducibility\n",
    "You do not have to do this step but to aid reproducibility we do it here. Note it comes with a cost for runtime aswell.\n",
    "You can run the cell below so that with the same inputs and hardware you will have the same result.\n",
    "\n"
   ]
  },
  {
   "cell_type": "code",
   "execution_count": 5,
   "id": "91ce20be-c308-488f-84fa-bd377f78e6cb",
   "metadata": {},
   "outputs": [],
   "source": [
    "#First set the Python seed, the NumPy seed, and the TensorFlow seed.\n",
    "tf.keras.utils.set_random_seed(1)\n",
    "\n",
    "# Prevent asynchronous, non-deterministic computations on GPU \n",
    "tf.config.experimental.enable_op_determinism()"
   ]
  },
  {
   "cell_type": "markdown",
   "id": "471248fa-0852-4a95-ae98-5faba45ef675",
   "metadata": {},
   "source": [
    "### Load Trastuzamab Ab sequence to mutate\n",
    "\n"
   ]
  },
  {
   "cell_type": "code",
   "execution_count": 6,
   "id": "906624c3-3ad1-48d9-969a-c3cce3b586c3",
   "metadata": {},
   "outputs": [],
   "source": [
    "# VH of Trastuzamab\n",
    "sequence_heavy = '''EVQLVESGGGLVQPGGSLRLSCAASGFNIKDTYIHWVRQAPGKGLEWVARIYPTNGYTRYADSVKGRFTISADTSKNTAYLQMNSLRAEDTAVYYCSRWGGDGFYAMDYWGQGTLVTVSS'''"
   ]
  },
  {
   "cell_type": "code",
   "execution_count": 7,
   "id": "119bc3da-0b85-4bcf-88ba-a8cf3c1fa6cb",
   "metadata": {},
   "outputs": [
    {
     "name": "stdout",
     "output_type": "stream",
     "text": [
      "REGION TO CHANGE IN AB:\n",
      "\tWGGDGFYAMD\n"
     ]
    }
   ],
   "source": [
    "# Define region to edit\n",
    "# Both ESM2 and IgBert append a CLS token to the beginning of a sequence. To account for this we add 1 to the start index below.\n",
    "seq_to_mutate = 'WGGDGFYAMD'\n",
    "start = sequence_heavy.find('WGGDGFYAMD') + 1\n",
    "end = start+len('WGGDGFYAMD') \n",
    "print('REGION TO CHANGE IN AB:')\n",
    "print('\\t' + sequence_heavy[start-1:end - 1])"
   ]
  },
  {
   "cell_type": "markdown",
   "id": "e652cb72-f7ad-4840-9c54-3566b7e74724",
   "metadata": {},
   "source": [
    "In the below cell we set the sampling configuration for ProdigyProtein, since masked marginals have slightly better performance we will set this parameter to `True`. \n",
    "\n",
    "We are editing the HCDR3 as binding data is associated only with variants in this region. This region is 10 amino acids in length. We set `k=8` to limit the number of steps to 8 (max mutations is 8). We do not set an llr threshold allowing any sampled residue. Note that higher batch sizes will speed up computation, but will be limited by your GPU memory on your device or instance.\n",
    "\n",
    "For this example, we aim to evaluate the proportion of binders using three strategies:\n",
    "1. RANDOM\n",
    "2. Protein language models ESM2\n",
    "3. Antibody Language model IgBert\n",
    "\n",
    "To help delineate differences we will need an appropriate sample size. Here, we generate 1000 variants. We use 1000, as we expect some duplicates."
   ]
  },
  {
   "cell_type": "code",
   "execution_count": 8,
   "id": "06c5ca33-ea7d-46dd-9b64-a250cb4328b1",
   "metadata": {},
   "outputs": [],
   "source": [
    "class Config():\n",
    "    \n",
    "    llr_threshold=None\n",
    "    masked_marginals=True\n",
    "    temperature=1\n",
    "    k=8\n",
    "    batch_size=256\n",
    "    n_variants = 1000\n",
    "    seed = 0"
   ]
  },
  {
   "cell_type": "markdown",
   "id": "d5515346-4159-4045-bb15-765f3711e1d3",
   "metadata": {},
   "source": [
    "## Generating Trastuzamab variants\n",
    "\n",
    "### ESM2 variant generation\n",
    "\n",
    "We will load the model and go ahead and generate the variants for Trastuzamab.\n",
    "\n",
    "Loading the model can be done through HuggingFace (HF). Note we use the `TFEsmForMaskedLM` as we need a language modelling head on the ESM2 backbone.\n",
    "\n",
    "**Note**:\n",
    "Since we are using masked marginals, we must provide the mask token to the sampler as well (Below that the esm tokeniser prepends a CLS token 0 and appends EOS token 2 to the end of sequences)."
   ]
  },
  {
   "cell_type": "code",
   "execution_count": null,
   "id": "9623569f-84c0-492f-9d84-76451466ac85",
   "metadata": {},
   "outputs": [],
   "source": [
    "# Load ESM2 650M model and tokenizer\n",
    "model_name = \"facebook/esm2_t33_650M_UR50D\"\n",
    "tokenizer = EsmTokenizer.from_pretrained(model_name)\n",
    "plm = TFEsmForMaskedLM.from_pretrained(model_name)"
   ]
  },
  {
   "cell_type": "code",
   "execution_count": 7,
   "id": "f0823772-0657-4a2a-ace8-daa40d088d24",
   "metadata": {},
   "outputs": [
    {
     "name": "stdout",
     "output_type": "stream",
     "text": [
      "Mask token for PLM ESM2 650M --> {'input_ids': [0, 32, 2], 'attention_mask': [1, 1, 1]}\n"
     ]
    }
   ],
   "source": [
    "print('Mask token for PLM ESM2 650M --> {}'.format(tokenizer('<mask>')))\n",
    "mask_token=32"
   ]
  },
  {
   "cell_type": "markdown",
   "id": "24e13c18-339e-4fab-a851-69ae70b9799f",
   "metadata": {},
   "source": [
    "Before running the below cell, consider your GPU memory and run a suitable batch size."
   ]
  },
  {
   "cell_type": "code",
   "execution_count": 8,
   "id": "e65ee892-14f9-401b-827c-8149ba298c75",
   "metadata": {},
   "outputs": [
    {
     "name": "stderr",
     "output_type": "stream",
     "text": [
      "TensorFlow and JAX classes are deprecated and will be removed in Transformers v5. We recommend migrating to PyTorch classes or pinning your version of Transformers.\n"
     ]
    },
    {
     "name": "stdout",
     "output_type": "stream",
     "text": [
      "8/8 [==============================] - 1328s 182s/Directed Evolution Steps\n"
     ]
    }
   ],
   "source": [
    "# RUN this cell to get ESM2 variants\n",
    "\n",
    "# Define your input sequence\n",
    "sequences = [sequence_heavy] * Config.n_variants  # Example sequence repeated\n",
    "\n",
    "# Tokenize the sequence\n",
    "tokenized = tokenizer(sequences, return_tensors=\"tf\")\n",
    "\n",
    "# Initialize the sampler\n",
    "sampler = WeightedDirectedEvolutionSampler(temperature=Config.temperature,\n",
    "                                           seed=Config.seed)\n",
    "\n",
    "\n",
    "# Generate variants\n",
    "esm2_variants, mutational_probabilities, logits = sampler(sequence=tokenized,\n",
    "                         model=plm,\n",
    "                         mask_token=mask_token,\n",
    "                         max_steps=Config.k,\n",
    "                         start_end_intervals=[(start, end)],\n",
    "                         batch=Config.batch_size,\n",
    "                         masked_marginals=Config.masked_marginals)"
   ]
  },
  {
   "cell_type": "markdown",
   "id": "567ca822-7f29-447e-a26b-12177ba59bfc",
   "metadata": {},
   "source": [
    "### Igbert variant generation"
   ]
  },
  {
   "cell_type": "markdown",
   "id": "81b54adf-70d0-4d74-b70a-76db1584877b",
   "metadata": {},
   "source": [
    "Load Igbert model and tokeniser"
   ]
  },
  {
   "cell_type": "code",
   "execution_count": 42,
   "id": "0e841e40-cec2-4ffa-b5c5-b11d0983e375",
   "metadata": {},
   "outputs": [
    {
     "name": "stderr",
     "output_type": "stream",
     "text": [
      "All PyTorch model weights were used when initializing TFBertForMaskedLM.\n",
      "\n",
      "All the weights of TFBertForMaskedLM were initialized from the PyTorch model.\n",
      "If your task is similar to the task the model of the checkpoint was trained on, you can already use TFBertForMaskedLM for predictions without further training.\n"
     ]
    }
   ],
   "source": [
    "model_name = \"Exscientia/IgBert_unpaired\"\n",
    "tokeniser = AutoTokenizer.from_pretrained(model_name)\n",
    "plm = TFAutoModelForMaskedLM.from_pretrained(model_name)"
   ]
  },
  {
   "cell_type": "markdown",
   "id": "cb30f723-b04e-4db3-b44a-7aa014318d60",
   "metadata": {},
   "source": [
    "A summary of IgBert is shown below."
   ]
  },
  {
   "cell_type": "code",
   "execution_count": 46,
   "id": "40f3d6e8-f131-4a77-9abc-c3ee29d60d28",
   "metadata": {},
   "outputs": [
    {
     "name": "stdout",
     "output_type": "stream",
     "text": [
      "Model: \"tf_bert_for_masked_lm_8\"\n",
      "_________________________________________________________________\n",
      " Layer (type)                Output Shape              Param #   \n",
      "=================================================================\n",
      " bert (TFBertMainLayer)      multiple                  418881536 \n",
      "                                                                 \n",
      " mlm___cls (TFBertMLMHead)   multiple                  42046494  \n",
      "                                                                 \n",
      "=================================================================\n",
      "Total params: 419933214 (1.56 GB)\n",
      "Trainable params: 419933214 (1.56 GB)\n",
      "Non-trainable params: 0 (0.00 Byte)\n",
      "_________________________________________________________________\n"
     ]
    }
   ],
   "source": [
    "plm.summary()"
   ]
  },
  {
   "cell_type": "markdown",
   "id": "dff509cc-a989-4a50-bcae-1302a8c368b4",
   "metadata": {},
   "source": [
    "We can see that the mask token is 4 for the IgBert model below."
   ]
  },
  {
   "cell_type": "code",
   "execution_count": 43,
   "id": "3b004973-8ead-4331-aa92-552a8a9cb6b0",
   "metadata": {},
   "outputs": [
    {
     "data": {
      "text/plain": [
       "{'B': 27,\n",
       " 'D': 14,\n",
       " 'Y': 20,\n",
       " '[PAD]': 0,\n",
       " 'U': 26,\n",
       " 'M': 21,\n",
       " '[MASK]': 4,\n",
       " 'G': 7,\n",
       " 'H': 22,\n",
       " 'Q': 18,\n",
       " 'O': 29,\n",
       " '[UNK]': 1,\n",
       " 'K': 12,\n",
       " 'I': 11,\n",
       " 'L': 5,\n",
       " 'E': 9,\n",
       " 'A': 6,\n",
       " 'T': 15,\n",
       " 'F': 19,\n",
       " 'Z': 28,\n",
       " '[CLS]': 2,\n",
       " '[SEP]': 3,\n",
       " 'N': 17,\n",
       " 'C': 23,\n",
       " 'X': 25,\n",
       " 'S': 10,\n",
       " 'W': 24,\n",
       " 'R': 13,\n",
       " 'P': 16,\n",
       " 'V': 8}"
      ]
     },
     "execution_count": 43,
     "metadata": {},
     "output_type": "execute_result"
    }
   ],
   "source": [
    "tokeniser.get_vocab()"
   ]
  },
  {
   "cell_type": "code",
   "execution_count": 44,
   "id": "5b33da95-6363-4818-858d-a67bd5fee9b7",
   "metadata": {},
   "outputs": [],
   "source": [
    "mask_token = 4"
   ]
  },
  {
   "cell_type": "code",
   "execution_count": 45,
   "id": "5a0e2005-02af-4d21-b901-b309de8a6a53",
   "metadata": {},
   "outputs": [
    {
     "name": "stdout",
     "output_type": "stream",
     "text": [
      "8/8 [==============================] - 890s 119s/Directed Evolution Steps\n"
     ]
    }
   ],
   "source": [
    "\n",
    "\n",
    "sequences = [sequence_heavy] * Config.n_variants \n",
    "igbert_sequences = [' '.join(sequence) for sequence in sequences] \n",
    "tokenized = tokeniser.batch_encode_plus(\n",
    "    igbert_sequences, \n",
    "    add_special_tokens=True, \n",
    "    return_tensors=\"tf\",\n",
    ") \n",
    "\n",
    "\n",
    "# Initialize the sampler\n",
    "sampler = WeightedDirectedEvolutionSampler(temperature=Config.temperature,\n",
    "                                           seed=Config.seed)\n",
    "\n",
    "\n",
    "# Generate variants\n",
    "igbert_variants, mutational_probabilities, logits = sampler(sequence=tokenized,\n",
    "                         model=plm,\n",
    "                         mask_token=mask_token,\n",
    "                         max_steps=Config.k,\n",
    "                         start_end_intervals=[(start, end)],\n",
    "                         batch=Config.batch_size,\n",
    "                         masked_marginals=Config.masked_marginals)"
   ]
  },
  {
   "cell_type": "code",
   "execution_count": 53,
   "id": "1754a334-7189-434f-a333-c96a7226ff27",
   "metadata": {},
   "outputs": [
    {
     "data": {
      "text/plain": [
       "['igbert_variants.joblib']"
      ]
     },
     "execution_count": 53,
     "metadata": {},
     "output_type": "execute_result"
    }
   ],
   "source": [
    "# Checkpoint your progress, save variants generated\n",
    "joblib.dump(igbert_variants, 'igbert_variants.joblib')"
   ]
  },
  {
   "cell_type": "markdown",
   "id": "e20ef169-08b8-4c77-a199-747e564cac79",
   "metadata": {},
   "source": [
    "**Note**:\n",
    "\n",
    "ProdigyProtein can 'devolve' or 'step back' in the path of mutations introduced so that variants are restored to a particular step. This is useful when you want to reclaim additional variants that occurred along each variants' mutational path.\n",
    "\n",
    "For example, you may analyse the distribution of number of mutations introduced and find it too high. You can simply run the devolve method of the sampler as shown below."
   ]
  },
  {
   "cell_type": "code",
   "execution_count": 10,
   "id": "3a2afe5f-cc91-493d-a159-cb1133a6e35b",
   "metadata": {},
   "outputs": [],
   "source": [
    "# sampler.devolution(\n",
    "#     mutational_probabilities=mutational_probabilities, # mutational probabilities returned from sampling\n",
    "#     n=step # The step where where variants should stop mutating\n",
    "# )"
   ]
  },
  {
   "cell_type": "markdown",
   "id": "8d8d0570-e9f5-4cc8-85bc-77b0c8da258d",
   "metadata": {},
   "source": [
    "Lets reload the respective tokenisers to detokenise the variants."
   ]
  },
  {
   "cell_type": "code",
   "execution_count": 59,
   "id": "624f8620-1c54-4566-8d74-204849942d54",
   "metadata": {},
   "outputs": [],
   "source": [
    "\n",
    "model_name = \"facebook/esm2_t30_150M_UR50D\"\n",
    "esm_tokenizer = EsmTokenizer.from_pretrained(model_name)\n",
    "\n",
    "model_name = \"Exscientia/IgBert_unpaired\"\n",
    "igbert_tokenizer = AutoTokenizer.from_pretrained(model_name)\n",
    "esm2_variants = joblib.load('esm2_variants.joblib')\n",
    "igbert_variants = joblib.load('igbert_variants.joblib')"
   ]
  },
  {
   "cell_type": "markdown",
   "id": "c8b90637-d0fb-4dc8-8f46-bf4b1680fa5e",
   "metadata": {},
   "source": [
    "The tokeniser has a decode method to revert tokens back to amino acid residues."
   ]
  },
  {
   "cell_type": "code",
   "execution_count": 60,
   "id": "b9adb32e-4b90-46b2-82ef-472e1153953b",
   "metadata": {},
   "outputs": [],
   "source": [
    "esm2_variants = esm_tokenizer.batch_decode(esm2_variants, \n",
    "                                           skip_special_tokens=True)\n",
    "igbert_variants = igbert_tokenizer.batch_decode(igbert_variants,\n",
    "                                                skip_special_tokens=True)"
   ]
  },
  {
   "cell_type": "code",
   "execution_count": 61,
   "id": "89bc7433-41c3-4164-86f1-37d20876d5af",
   "metadata": {},
   "outputs": [],
   "source": [
    "# Remove whitespace in output\n",
    "esm2_variants = [variant.replace(' ', '') for variant in esm2_variants]\n",
    "igbert_variants = [variant.replace(' ', '') for variant in igbert_variants]"
   ]
  },
  {
   "cell_type": "markdown",
   "id": "2b3137aa-f200-4e4a-aad8-a0bd1b646f56",
   "metadata": {},
   "source": [
    "## Evaluating binder yield"
   ]
  },
  {
   "cell_type": "markdown",
   "id": "e83106b5-bfda-4f0e-a367-a68ce613781e",
   "metadata": {},
   "source": [
    "To evaluate binder yield, we first need to load the oracle model. Fortunately this is publically available through Zenedo. Use the cell below to retrieve the model."
   ]
  },
  {
   "cell_type": "markdown",
   "id": "1b1ba995-bb00-4286-9703-52effe2c712c",
   "metadata": {},
   "source": [
    "### Get oracle scores"
   ]
  },
  {
   "cell_type": "markdown",
   "id": "de1eb92d-a8e7-449e-907a-d58034945051",
   "metadata": {},
   "source": [
    "\n",
    "Download model from zenodo. Unfortunately it is bundled with other files, so we will have to download the zip."
   ]
  },
  {
   "cell_type": "code",
   "execution_count": 4,
   "id": "2de51761-4bd2-486f-b6f6-34b9f402ae02",
   "metadata": {},
   "outputs": [
    {
     "name": "stdout",
     "output_type": "stream",
     "text": [
      "Will not apply HSTS. The HSTS database must be a regular and non-world-writable file.\n",
      "ERROR: could not open HSTS store at '/home/jovyan/.wget-hsts'. HSTS will be disabled.\n",
      "--2025-07-21 12:59:31--  https://zenodo.org/record/10831512/files/data.zip?download=1\n",
      "Resolving zenodo.org (zenodo.org)... 188.185.43.25, 188.185.48.194, 188.185.45.92, ...\n",
      "Connecting to zenodo.org (zenodo.org)|188.185.43.25|:443... connected.\n",
      "HTTP request sent, awaiting response... 301 MOVED PERMANENTLY\n",
      "Location: /records/10831512/files/data.zip [following]\n",
      "--2025-07-21 12:59:31--  https://zenodo.org/records/10831512/files/data.zip\n",
      "Reusing existing connection to zenodo.org:443.\n",
      "HTTP request sent, awaiting response... 200 OK\n",
      "Length: 2537190576 (2.4G) [application/octet-stream]\n",
      "Saving to: ‘data.zip’\n",
      "\n",
      "data.zip            100%[===================>]   2.36G  10.1MB/s    in 4m 2s   \n",
      "\n",
      "2025-07-21 13:03:33 (9.99 MB/s) - ‘data.zip’ saved [2537190576/2537190576]\n",
      "\n"
     ]
    }
   ],
   "source": [
    "# ! wget \"https://zenodo.org/record/10831512/files/data.zip?download=1\" -O data.zip\n"
   ]
  },
  {
   "cell_type": "markdown",
   "id": "0baee223-90bf-49cc-b3ad-6281d3fcbf80",
   "metadata": {},
   "source": [
    "The actual model is within the data directory with the base name `cnn_weights`. We can use the zipfile module to unzip the dir and extract the model."
   ]
  },
  {
   "cell_type": "code",
   "execution_count": 17,
   "id": "4caf53a5-415c-4464-8ad7-8292f6b8dbe1",
   "metadata": {},
   "outputs": [],
   "source": [
    "with zipfile.ZipFile(\"data.zip\", \"r\") as zip_ref:\n",
    "    zip_ref.extract(\"data/affinity_data/example/cnn_weights.h5\", path=\"extracted/\")\n"
   ]
  },
  {
   "cell_type": "markdown",
   "id": "f553ce7f-0807-4116-8f4f-6ae8fd2f2a9b",
   "metadata": {},
   "source": [
    "Load the oracle below. It is a small 1D CNN trained on predicting whether variants are binders or not (binary classifier).\n",
    "\n",
    "*You can ignore the two helper functions, they are needed to preprocess amino acids into one hot encodings required by the oracle.*"
   ]
  },
  {
   "cell_type": "code",
   "execution_count": 62,
   "id": "ae47eb1f-adc8-4ac0-ad8e-50be3cc56557",
   "metadata": {},
   "outputs": [
    {
     "name": "stdout",
     "output_type": "stream",
     "text": [
      "Model: \"sequential\"\n",
      "_________________________________________________________________\n",
      " Layer (type)                Output Shape              Param #   \n",
      "=================================================================\n",
      " conv1d (Conv1D)             (None, 10, 400)           40400     \n",
      "                                                                 \n",
      " dropout (Dropout)           (None, 10, 400)           0         \n",
      "                                                                 \n",
      " max_pooling1d (MaxPooling1  (None, 9, 400)            0         \n",
      " D)                                                              \n",
      "                                                                 \n",
      " flatten (Flatten)           (None, 3600)              0         \n",
      "                                                                 \n",
      " dense (Dense)               (None, 300)               1080300   \n",
      "                                                                 \n",
      " dense_1 (Dense)             (None, 1)                 301       \n",
      "                                                                 \n",
      "=================================================================\n",
      "Total params: 1121001 (4.28 MB)\n",
      "Trainable params: 1121001 (4.28 MB)\n",
      "Non-trainable params: 0 (0.00 Byte)\n",
      "_________________________________________________________________\n",
      "Oracle expects one hot encoded inputs --->: [<KerasTensor: shape=(None, 10, 20) dtype=float32 (created by layer 'input_1')>]\n"
     ]
    }
   ],
   "source": [
    "oracle = tf.keras.models.load_model('extracted/data/affinity_data/example/cnn_weights.h5')\n",
    "oracle.summary()\n",
    "print('Oracle expects one hot encoded inputs --->: {}'.format(oracle.inputs))\n",
    "# Define helper functions to leverage the oracle\n",
    "def get_ordered_AA_one_letter_codes():\n",
    "    '''\n",
    "    Get list of amino acid one letter codes in alphabetical order\n",
    "    '''\n",
    "    return ['A', 'C', 'D', 'E', 'F', 'G', 'H', 'I', 'K', 'L',\n",
    "            'M', 'N', 'P', 'Q', 'R', 'S', 'T', 'V', 'W', 'Y']\n",
    "\n",
    "def oracle_tokeniser(sequences : list[list[str]]):\n",
    "    '''\n",
    "    '''\n",
    "    amino_acids = get_ordered_AA_one_letter_codes()\n",
    "    tokenised_strings = [[amino_acids.index(char) for char in seq] for seq in sequences]\n",
    "    ohe_strings = tf.one_hot(tokenised_strings, depth=20)\n",
    "\n",
    "    return ohe_strings\n"
   ]
  },
  {
   "cell_type": "markdown",
   "id": "e1538c85-4bc4-4475-b595-be355039e67f",
   "metadata": {},
   "source": [
    "The oracle expects sequences of length 10 (note the expected dimensions of the input are defined by sequence length 10 and 20 for the possible amino acids). We need extract ESM2 variants from the VH sequences output from the sampler.\n",
    "\n",
    "Lets examine some generated variants below:"
   ]
  },
  {
   "cell_type": "code",
   "execution_count": 63,
   "id": "f254a77e-6e61-4e3d-8020-423c5040dab9",
   "metadata": {},
   "outputs": [
    {
     "name": "stdout",
     "output_type": "stream",
     "text": [
      "EVQLVESGGGLVQPGGSLRLSCAASGFNIKDTYIHWVRQAPGKGLEWVARIYPTNGYTRYADSVKGRFTISADTSKNTAYLQMNSLRAEDTAVYYCSR \u001b[1mDTGSGSYYYN\u001b[0m YWGQGTLVTVSS\n",
      "EVQLVESGGGLVQPGGSLRLSCAASGFNIKDTYIHWVRQAPGKGLEWVARIYPTNGYTRYADSVKGRFTISADTSKNTAYLQMNSLRAEDTAVYYCSR \u001b[1mDGGSHSYAFD\u001b[0m YWGQGTLVTVSS\n",
      "EVQLVESGGGLVQPGGSLRLSCAASGFNIKDTYIHWVRQAPGKGLEWVARIYPTNGYTRYADSVKGRFTISADTSKNTAYLQMNSLRAEDTAVYYCSR \u001b[1mYGGSNSYAVD\u001b[0m YWGQGTLVTVSS\n",
      "EVQLVESGGGLVQPGGSLRLSCAASGFNIKDTYIHWVRQAPGKGLEWVARIYPTNGYTRYADSVKGRFTISADTSKNTAYLQMNSLRAEDTAVYYCSR \u001b[1mGGYDGDYYAD\u001b[0m YWGQGTLVTVSS\n",
      "EVQLVESGGGLVQPGGSLRLSCAASGFNIKDTYIHWVRQAPGKGLEWVARIYPTNGYTRYADSVKGRFTISADTSKNTAYLQMNSLRAEDTAVYYCSR \u001b[1mNVGWGGYYYD\u001b[0m YWGQGTLVTVSS\n"
     ]
    }
   ],
   "source": [
    "for var in esm2_variants[:5]:\n",
    "    print(var[:start-1] + ' ' + '\\033[1m' + var[start-1:end-1] + '\\033[0m' + ' ' + var[end-1:])"
   ]
  },
  {
   "cell_type": "code",
   "execution_count": 64,
   "id": "c166e5fc-77a5-490e-b7aa-ec273b943e02",
   "metadata": {},
   "outputs": [
    {
     "name": "stdout",
     "output_type": "stream",
     "text": [
      "EVQLVESGGGLVQPGGSLRLSCAASGFNIKDTYIHWVRQAPGKGLEWVARIYPTNGYTRYADSVKGRFTISADTSKNTAYLQMNSLRAEDTAVYYCSR \u001b[1mHGSDGVTFYD\u001b[0m YWGQGTLVTVSS\n",
      "EVQLVESGGGLVQPGGSLRLSCAASGFNIKDTYIHWVRQAPGKGLEWVARIYPTNGYTRYADSVKGRFTISADTSKNTAYLQMNSLRAEDTAVYYCSR \u001b[1mDGGSGGGTID\u001b[0m YWGQGTLVTVSS\n",
      "EVQLVESGGGLVQPGGSLRLSCAASGFNIKDTYIHWVRQAPGKGLEWVARIYPTNGYTRYADSVKGRFTISADTSKNTAYLQMNSLRAEDTAVYYCSR \u001b[1mDRGSGSFPFD\u001b[0m YWGQGTLVTVSS\n",
      "EVQLVESGGGLVQPGGSLRLSCAASGFNIKDTYIHWVRQAPGKGLEWVARIYPTNGYTRYADSVKGRFTISADTSKNTAYLQMNSLRAEDTAVYYCSR \u001b[1mGGGYGDYRFD\u001b[0m YWGQGTLVTVSS\n",
      "EVQLVESGGGLVQPGGSLRLSCAASGFNIKDTYIHWVRQAPGKGLEWVARIYPTNGYTRYADSVKGRFTISADTSKNTAYLQMNSLRAEDTAVYYCSR \u001b[1mGGYSYGYHFD\u001b[0m YWGQGTLVTVSS\n"
     ]
    }
   ],
   "source": [
    "for var in igbert_variants[:5]:\n",
    "    print(var[:start-1] + ' ' + '\\033[1m' + var[start-1:end-1] + '\\033[0m' + ' ' + var[end-1:])"
   ]
  },
  {
   "cell_type": "markdown",
   "id": "a360b1b5-72f7-45d6-ab2a-762989c801d5",
   "metadata": {},
   "source": [
    "We need to filter any tokens that are not amino acids as they cannot be evaluated by the oracle. The oracle needs to receive the tokenised amino acids shown in bold for eachs variant.\n"
   ]
  },
  {
   "cell_type": "code",
   "execution_count": 65,
   "id": "2928a770-ec2a-4063-a5f5-19eda637177a",
   "metadata": {},
   "outputs": [],
   "source": [
    "# Remove any sequences containing non-valid amino acids\n",
    "oracle_vocab = get_ordered_AA_one_letter_codes()\n",
    "oracle_vocab = set(oracle_vocab)\n",
    "esm2_variants = [var for var in esm2_variants if set(var).issubset(oracle_vocab)]\n",
    "igbert_variants = [var for var in igbert_variants if set(var).issubset(oracle_vocab)]"
   ]
  },
  {
   "cell_type": "markdown",
   "id": "d85531e6-c5d9-4081-a38c-96a992b94ae2",
   "metadata": {},
   "source": [
    "We can see one variant was removed, as a non-valid amino acid was introduced."
   ]
  },
  {
   "cell_type": "code",
   "execution_count": 66,
   "id": "fde3a302-fbd8-4cbd-a0a0-65cd20bece9e",
   "metadata": {},
   "outputs": [
    {
     "name": "stdout",
     "output_type": "stream",
     "text": [
      "999\n"
     ]
    }
   ],
   "source": [
    "print(len(esm2_variants))"
   ]
  },
  {
   "cell_type": "code",
   "execution_count": 67,
   "id": "58bc66bf-161a-470b-93d2-06f86d93e338",
   "metadata": {},
   "outputs": [
    {
     "name": "stdout",
     "output_type": "stream",
     "text": [
      "1000\n"
     ]
    }
   ],
   "source": [
    "print(len(igbert_variants))"
   ]
  },
  {
   "cell_type": "code",
   "execution_count": 68,
   "id": "8da3fd26-37fc-46f7-b51b-27849eaf2ec0",
   "metadata": {},
   "outputs": [],
   "source": [
    "# Remember the coordinates are -1 since we had to account for ESM2 prepending a CLS token to all sequences.\n",
    "oracle_esm2_input = oracle_tokeniser(esm2_variants)\n",
    "oracle_esm2_input = oracle_esm2_input[:, start-1:end-1]\n",
    "\n",
    "oracle_igbert_input = oracle_tokeniser(igbert_variants)\n",
    "oracle_igbert_input = oracle_igbert_input[:, start-1:end-1]"
   ]
  },
  {
   "cell_type": "code",
   "execution_count": 69,
   "id": "009e5d53-36e0-4f4c-9430-8e586738fe4a",
   "metadata": {},
   "outputs": [
    {
     "name": "stdout",
     "output_type": "stream",
     "text": [
      " 1/32 [..............................] - ETA: 8s"
     ]
    },
    {
     "name": "stderr",
     "output_type": "stream",
     "text": [
      "2025-07-25 15:59:32.636707: I tensorflow/compiler/xla/stream_executor/cuda/cuda_dnn.cc:432] Loaded cuDNN version 8600\n"
     ]
    },
    {
     "name": "stdout",
     "output_type": "stream",
     "text": [
      "32/32 [==============================] - 0s 2ms/step\n",
      "32/32 [==============================] - 0s 2ms/step\n"
     ]
    }
   ],
   "source": [
    "y_pred_esm2 = oracle.predict(oracle_esm2_input)\n",
    "y_pred_igbert = oracle.predict(oracle_igbert_input)"
   ]
  },
  {
   "cell_type": "markdown",
   "id": "81aa2864-ee42-45b0-88db-65469416e53a",
   "metadata": {},
   "source": [
    "### Build a dataframe with binder/non-binder and number of mutations"
   ]
  },
  {
   "cell_type": "code",
   "execution_count": 71,
   "id": "a718d713-d4ac-46ce-b46b-62b2632f0f52",
   "metadata": {},
   "outputs": [
    {
     "name": "stdout",
     "output_type": "stream",
     "text": [
      "  MODEL                                        VH_VARIANTS  \\\n",
      "0  ESM2  EVQLVESGGGLVQPGGSLRLSCAASGFNIKDTYIHWVRQAPGKGLE...   \n",
      "1  ESM2  EVQLVESGGGLVQPGGSLRLSCAASGFNIKDTYIHWVRQAPGKGLE...   \n",
      "2  ESM2  EVQLVESGGGLVQPGGSLRLSCAASGFNIKDTYIHWVRQAPGKGLE...   \n",
      "3  ESM2  EVQLVESGGGLVQPGGSLRLSCAASGFNIKDTYIHWVRQAPGKGLE...   \n",
      "4  ESM2  EVQLVESGGGLVQPGGSLRLSCAASGFNIKDTYIHWVRQAPGKGLE...   \n",
      "\n",
      "   VARIANT_PREDICTION_SCORE  BINDER_CLASSIFICATION  \n",
      "0                  0.319192                  False  \n",
      "1                  0.782767                   True  \n",
      "2                  0.796967                   True  \n",
      "3                  0.823426                   True  \n",
      "4                  0.426665                  False  \n",
      "    MODEL                                        VH_VARIANTS  \\\n",
      "0  IGBERT  EVQLVESGGGLVQPGGSLRLSCAASGFNIKDTYIHWVRQAPGKGLE...   \n",
      "1  IGBERT  EVQLVESGGGLVQPGGSLRLSCAASGFNIKDTYIHWVRQAPGKGLE...   \n",
      "2  IGBERT  EVQLVESGGGLVQPGGSLRLSCAASGFNIKDTYIHWVRQAPGKGLE...   \n",
      "3  IGBERT  EVQLVESGGGLVQPGGSLRLSCAASGFNIKDTYIHWVRQAPGKGLE...   \n",
      "4  IGBERT  EVQLVESGGGLVQPGGSLRLSCAASGFNIKDTYIHWVRQAPGKGLE...   \n",
      "\n",
      "   VARIANT_PREDICTION_SCORE  BINDER_CLASSIFICATION  \n",
      "0                  0.736366                   True  \n",
      "1                  0.911969                   True  \n",
      "2                  0.427069                  False  \n",
      "3                  0.937101                   True  \n",
      "4                  0.631992                   True  \n"
     ]
    }
   ],
   "source": [
    "variant_results_esm2 = pd.DataFrame(\n",
    "    {\n",
    "        'MODEL': ['ESM2'] * len(esm2_variants),\n",
    "        'VH_VARIANTS': esm2_variants,\n",
    "        'VARIANT_PREDICTION_SCORE': y_pred_esm2.squeeze(),\n",
    "        'BINDER_CLASSIFICATION': y_pred_esm2.squeeze() > 0.5\n",
    "    }\n",
    ")\n",
    "print(variant_results_esm2.head())\n",
    "\n",
    "variant_results_igbert = pd.DataFrame(\n",
    "    {\n",
    "        'MODEL': ['IGBERT'] * len(igbert_variants),\n",
    "        'VH_VARIANTS': igbert_variants,\n",
    "        'VARIANT_PREDICTION_SCORE': y_pred_igbert.squeeze(),\n",
    "        'BINDER_CLASSIFICATION': y_pred_igbert.squeeze() > 0.5\n",
    "    }\n",
    ")\n",
    "print(variant_results_igbert.head())"
   ]
  },
  {
   "cell_type": "markdown",
   "id": "0611edfe-7392-4295-9b64-48aa3b38bee5",
   "metadata": {},
   "source": [
    "Now combine the variant tables"
   ]
  },
  {
   "cell_type": "code",
   "execution_count": 72,
   "id": "ee52b95b-8513-4a04-a012-0ca2165f524e",
   "metadata": {},
   "outputs": [
    {
     "name": "stdout",
     "output_type": "stream",
     "text": [
      "  MODEL                                        VH_VARIANTS  \\\n",
      "0  ESM2  EVQLVESGGGLVQPGGSLRLSCAASGFNIKDTYIHWVRQAPGKGLE...   \n",
      "1  ESM2  EVQLVESGGGLVQPGGSLRLSCAASGFNIKDTYIHWVRQAPGKGLE...   \n",
      "2  ESM2  EVQLVESGGGLVQPGGSLRLSCAASGFNIKDTYIHWVRQAPGKGLE...   \n",
      "3  ESM2  EVQLVESGGGLVQPGGSLRLSCAASGFNIKDTYIHWVRQAPGKGLE...   \n",
      "4  ESM2  EVQLVESGGGLVQPGGSLRLSCAASGFNIKDTYIHWVRQAPGKGLE...   \n",
      "\n",
      "   VARIANT_PREDICTION_SCORE  BINDER_CLASSIFICATION  \n",
      "0                  0.319192                  False  \n",
      "1                  0.782767                   True  \n",
      "2                  0.796967                   True  \n",
      "3                  0.823426                   True  \n",
      "4                  0.426665                  False  \n"
     ]
    }
   ],
   "source": [
    "variant_results = pd.concat([variant_results_esm2, variant_results_igbert])\n",
    "print(variant_results.head())"
   ]
  },
  {
   "cell_type": "code",
   "execution_count": 73,
   "id": "ca1b956a-8e39-4995-b78e-2037c549e775",
   "metadata": {},
   "outputs": [],
   "source": [
    "variant_results['HCDR3_VARIANT'] = variant_results['VH_VARIANTS'].str[start-1:end-1]\n",
    "variant_results['NUMBER_OF_MUTATIONS'] = variant_results['HCDR3_VARIANT'].apply(lambda x: levenshtein(x, sequence_heavy[start-1:end-1]))"
   ]
  },
  {
   "cell_type": "markdown",
   "id": "781185ca-f587-4f8c-abf4-66ce21d88934",
   "metadata": {},
   "source": [
    "We will deduplicate the variants. "
   ]
  },
  {
   "cell_type": "code",
   "execution_count": 74,
   "id": "ab8969df-f9fe-4a02-a789-b64f7fa04bd0",
   "metadata": {},
   "outputs": [],
   "source": [
    "variant_results = variant_results[~variant_results['HCDR3_VARIANT'].duplicated()]"
   ]
  },
  {
   "cell_type": "markdown",
   "id": "481eacee-f402-4766-a1d0-8cf0685e5238",
   "metadata": {},
   "source": [
    "### Include random strategy\n",
    "\n",
    "When comparing strategies we will have to consider number of mutations introduced. \n",
    "Below after visualising the distribution of substitutions it is clear that we should only\n",
    "introduce between 5-7 mutations for or random strategy or we will not have enough samples size to compare\n",
    "in a statistically meaningful way."
   ]
  },
  {
   "cell_type": "code",
   "execution_count": 75,
   "id": "ef4b9161-f58b-46c0-86fb-f09f9cc35e52",
   "metadata": {},
   "outputs": [
    {
     "data": {
      "text/plain": [
       "<Axes: >"
      ]
     },
     "execution_count": 75,
     "metadata": {},
     "output_type": "execute_result"
    },
    {
     "data": {
      "image/png": "[encoded data removed]",
      "text/plain": [
       "<Figure size 640x480 with 1 Axes>"
      ]
     },
     "metadata": {},
     "output_type": "display_data"
    }
   ],
   "source": [
    "variant_results['NUMBER_OF_MUTATIONS'].hist(bins=20)"
   ]
  },
  {
   "cell_type": "markdown",
   "id": "116c21a9-7f0e-4f37-ae61-88835a858f80",
   "metadata": {},
   "source": [
    "To ensure comparison is fair, lets create variants with similar mean mutations as ESM2 distribution.\n",
    "\n",
    "Next we make a quick function to randomly substitute residues in the HCDR3 of Trastuzamab. Note that similar to Prodigy Protein, a new mutation must be chosen in each iteration."
   ]
  },
  {
   "cell_type": "code",
   "execution_count": 76,
   "id": "3695c40b-5141-4e5f-a2a4-a4eb0b1ab752",
   "metadata": {},
   "outputs": [],
   "source": [
    "\n",
    "def mutate_string(s, x, vocab):\n",
    "    s = list(s)\n",
    "    indices = random.sample(range(len(s)), min(x, len(s)))\n",
    "\n",
    "    \n",
    "    for i in indices:\n",
    "        original = s[i]\n",
    "        choices = [c for c in vocab if c != original]\n",
    "        if choices:\n",
    "            s[i] = random.choice(choices)\n",
    "    \n",
    "    return ''.join(s)\n"
   ]
  },
  {
   "cell_type": "markdown",
   "id": "4fd56b95-b6d9-484d-80c4-d9c76f87596f",
   "metadata": {},
   "source": [
    "The below cell generates a 1000 random variants, generates oracle scores, classifies them as binders or non-binders and calculates the number of substitutions introduced (duplicate sequences are discarded)."
   ]
  },
  {
   "cell_type": "code",
   "execution_count": 77,
   "id": "74ec3104-9e45-4e54-a2c6-5a1838712165",
   "metadata": {},
   "outputs": [
    {
     "name": "stdout",
     "output_type": "stream",
     "text": [
      "32/32 [==============================] - 0s 2ms/step\n"
     ]
    }
   ],
   "source": [
    "random_variants = []\n",
    "seq_to_mutate = sequence_heavy[start-1: end-1]\n",
    "vocab = get_ordered_AA_one_letter_codes()\n",
    "for i in range(1000):\n",
    "    variant = mutate_string(s=seq_to_mutate, x=6, vocab=vocab)\n",
    "    random_variants.append(variant)\n",
    "\n",
    "# tokenise variants\n",
    "random_variants_tokenised = oracle_tokeniser(random_variants)\n",
    "\n",
    "y_pred_random = oracle.predict(random_variants_tokenised)\n",
    "\n",
    "variant_results_random = pd.DataFrame(\n",
    "    {\n",
    "        'MODEL': ['RANDOM'] * Config.n_variants,\n",
    "        'HCDR3_VARIANT': random_variants,\n",
    "        'VARIANT_PREDICTION_SCORE': y_pred_random.squeeze(),\n",
    "        'BINDER_CLASSIFICATION': y_pred_random.squeeze() > 0.5\n",
    "    }\n",
    ")\n",
    "\n",
    "variant_results_random['NUMBER_OF_MUTATIONS'] = variant_results_random['HCDR3_VARIANT'].apply(lambda x: levenshtein(x, sequence_heavy[start-1:end-1]))\n",
    "\n",
    "variant_results_random = variant_results_random[~variant_results_random['HCDR3_VARIANT'].duplicated()]"
   ]
  },
  {
   "cell_type": "code",
   "execution_count": 78,
   "id": "62b7d3f8-6155-4244-8e43-9792de0f8c33",
   "metadata": {},
   "outputs": [],
   "source": [
    "## Combine results into one table\n",
    "all_variant_results = pd.concat([variant_results, variant_results_random])"
   ]
  },
  {
   "cell_type": "markdown",
   "id": "3b825b75-813f-463d-a0a5-50b0e801bce6",
   "metadata": {},
   "source": [
    "### Visualise the results comparing random and the PLM ESM2 to generate variants.\n",
    "Now we have variants from ESM2 and a random approach we can analyse the proportion of binders from each.\n"
   ]
  },
  {
   "cell_type": "code",
   "execution_count": 80,
   "id": "6260dbae-8b2b-46d1-8fa4-e4094dd4a26d",
   "metadata": {},
   "outputs": [
    {
     "name": "stderr",
     "output_type": "stream",
     "text": [
      "/tmp/ipykernel_1772/4045107262.py:16: UserWarning: FixedFormatter should only be used together with FixedLocator\n",
      "  ax.set_yticklabels(['{:.0%}'.format(val) for val in vals])\n"
     ]
    },
    {
     "data": {
      "image/png": "[encoded data removed]",
      "text/plain": [
       "<Figure size 600x500 with 1 Axes>"
      ]
     },
     "metadata": {},
     "output_type": "display_data"
    }
   ],
   "source": [
    "\n",
    "sns.set_style('white')\n",
    "sns.set_context(\"paper\", font_scale = 1.3)\n",
    "plt.figure(figsize=(6,5))\n",
    "\n",
    "ax = sns.pointplot(all_variant_results[all_variant_results['NUMBER_OF_MUTATIONS'] == 6], \n",
    "            x=\"MODEL\", \n",
    "            y=\"BINDER_CLASSIFICATION\",\n",
    "              order=all_variant_results[all_variant_results['NUMBER_OF_MUTATIONS'] == 6].groupby('MODEL')['BINDER_CLASSIFICATION'].mean().sort_values(ascending=True).index.tolist(),\n",
    "              linestyles='',\n",
    "            estimator=\"mean\")\n",
    "sns.despine(ax=ax, right = True)\n",
    "ax.set(title='Evaluating antibody variant generation with Prodigy Protein\\n     (60% of HCDR3 mutated) ',\n",
    "       ylabel='Proportion (%) predicted binders',\n",
    "       xlabel='Strategy')\n",
    "vals = ax.get_yticks()\n",
    "ax.set_yticklabels(['{:.0%}'.format(val) for val in vals])\n",
    "\n",
    "\n",
    "plt.tight_layout()\n",
    "plt.savefig('esm2-igbert-random-comparison-prodigyprotein-6mut-distance-publication-vert.svg', dpi=300)"
   ]
  },
  {
   "cell_type": "markdown",
   "id": "e5fbf0d0-0e23-4055-bbef-c48475887cb9",
   "metadata": {},
   "source": [
    "## Conclusion\n",
    "\n",
    "We demonstrate how Prodigy Protein can support a common challenge in antibody discovery—sequence optimisation. As expected, both IgBert and ESM2 are capable of nominating biologically plausible mutations and we easily leverage them using Prodigy Protein to engineer Trastuzamab variants. Specifically, we show that by coupling Prodigy Protein with ESM2 or IgBert we can generate approximately ~80% binders and ~90% binders respectively, for the antibody Trastuzamab (where variants contained HCDR3 which were 60% mutated). \n",
    "\n",
    "Prodigy Protein permits the user to easily drop in other PLM and their dedicated tokenisers into the generative AI workflow, enabling researchers to discover the best PLM for their particular engineering task. As new and more performant models are released, the performance of Prodigy Protein guided protein engineering will improve as well and we look forward to exciting PLM releases in the future."
   ]
  },
  {
   "cell_type": "markdown",
   "id": "8b575c43-dc25-42bf-83dc-1f350677b38a",
   "metadata": {},
   "source": [
    "## References"
   ]
  },
  {
   "cell_type": "markdown",
   "id": "355a715b-9c77-4c35-8758-5fd31a0a445e",
   "metadata": {},
   "source": [
    "We thank the Deane laboratory for making the Trastuzamab oracle available for use. \n",
    "\n",
    "**Trastuzmab CNN oracle**\n",
    "\n",
    "- Lewis Chinery, Alissa M. Hummer, Brij Bhushan Mehta, Rahmad Akbar, Puneet Rawat, Andrei Slabodkin, Khang Le Quy, Fridtjof Lund-Johansen, Victor Greiff, Jeliazko R. Jeliazkov, Charlotte M. Deane. Baselining the Buzz Trastuzumab-HER2 Affinity, and Beyond.\n",
    "bioRxiv 2024.03.26.586756; doi: https://doi.org/10.1101/2024.03.26.586756\n",
    "\n",
    "**ESM2** \n",
    "\n",
    "- Lin, Zeming and Akin, Halil and Rao, Roshan and Hie, Brian and Zhu, Zhongkai and Lu, Wenting and Smetanin, Nikita and Verkuil, Robert and Kabeli, Ori and Shmueli, Yaniv and et al. Evolutionary- scale prediction of atomic-level protein structure with a language model. Science, 379(6637):1123–1130, Mar 2023. doi: https://doi.org/10.1126/science.ade2574\n",
    "\n",
    "**IgBert**\n",
    "\n",
    "- Kenlay H, Dreyer FA, Kovaltsuk A, Miketa D, Pires D, Deane CM (2024) Large scale paired antibody language models. PLoS Comput Biol 20(12): e1012646. https://doi.org/10.1371/journal.pcbi.1012646\n"
   ]
  },
  {
   "cell_type": "markdown",
   "id": "ca3bb7c6-f292-4468-81a2-966d29aa72b2",
   "metadata": {},
   "source": [
    "## Additional Requirements\n",
    "\n",
    "Listed below are the dependencies used for this analysis:\n",
    "\n",
    "Python version: 3.11.4\n",
    "\n",
    "- tensorflow==2.13.0\n",
    "- seaborn==0.12.2\n",
    "- joblib==1.3.0\n",
    "- pandas==2.0.3\n",
    "- matplotlib==3.7.2\n",
    "- textdistance==4.6.2\n",
    "\n",
    "Note `random` and `zipfile` modules are part of the python standard library (they are built in)."
   ]
  }
 ],
 "metadata": {
  "kernelspec": {
   "display_name": "Python 3 (ipykernel)",
   "language": "python",
   "name": "python3"
  },
  "language_info": {
   "codemirror_mode": {
    "name": "ipython",
    "version": 3
   },
   "file_extension": ".py",
   "mimetype": "text/x-python",
   "name": "python",
   "nbconvert_exporter": "python",
   "pygments_lexer": "ipython3",
   "version": "3.11.4"
  }
 },
 "nbformat": 4,
 "nbformat_minor": 5
}
